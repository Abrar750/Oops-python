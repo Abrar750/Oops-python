{
 "cells": [
  {
   "cell_type": "markdown",
   "id": "d4f9d44e",
   "metadata": {},
   "source": [
    "# Class and object"
   ]
  },
  {
   "cell_type": "code",
   "execution_count": 22,
   "id": "c036a003",
   "metadata": {},
   "outputs": [
    {
     "name": "stdout",
     "output_type": "stream",
     "text": [
      "Hello Brother\n"
     ]
    }
   ],
   "source": [
    "#Siple project for class and object\n",
    "class Simple:\n",
    "    # Constructor of method\n",
    "    def __init__(self):\n",
    "        print('Hello Brother')\n",
    "    # create a method without peramitter\n",
    "    def show(self):\n",
    "        print('How are you')\n",
    "#Craete a object of class\n",
    "obj=Simple()"
   ]
  },
  {
   "cell_type": "code",
   "execution_count": 23,
   "id": "63c0d7e1",
   "metadata": {},
   "outputs": [
    {
     "name": "stdout",
     "output_type": "stream",
     "text": [
      "How are you\n"
     ]
    }
   ],
   "source": [
    "# called by function of method\n",
    "obj.show()"
   ]
  },
  {
   "cell_type": "markdown",
   "id": "8e552548",
   "metadata": {},
   "source": [
    "# Single inheritance in python"
   ]
  },
  {
   "cell_type": "code",
   "execution_count": 9,
   "id": "099d49ec",
   "metadata": {},
   "outputs": [],
   "source": [
    "#Create the single inheritance program\n",
    "class Single:\n",
    "    # Cunstructor of method class\n",
    "    def __init__(self,a):\n",
    "        self.model=a # instance variable\n",
    "class Child(Single):\n",
    "    def show(self,b): # This method with peramitter\n",
    "        self.model2=b # instance variable\n",
    "    def result(self):\n",
    "        print('Two number is=:',self.model+self.model2)\n",
    "# create the object of class\n",
    "obj=Child(13)"
   ]
  },
  {
   "cell_type": "code",
   "execution_count": 10,
   "id": "441947c5",
   "metadata": {},
   "outputs": [],
   "source": [
    "# called by function\n",
    "obj.show(14)"
   ]
  },
  {
   "cell_type": "code",
   "execution_count": 11,
   "id": "d140de63",
   "metadata": {},
   "outputs": [
    {
     "name": "stdout",
     "output_type": "stream",
     "text": [
      "Two number is=: 27\n"
     ]
    }
   ],
   "source": [
    "# Called by function\n",
    "obj.result()"
   ]
  },
  {
   "cell_type": "markdown",
   "id": "e82b3047",
   "metadata": {},
   "source": [
    "# Multiple Inheritance"
   ]
  },
  {
   "cell_type": "code",
   "execution_count": 13,
   "id": "a8977e7e",
   "metadata": {},
   "outputs": [],
   "source": [
    "#Create the multiple inheritance\n",
    "class A:\n",
    "    #Constructor with peramitter\n",
    "    def __init__(self,a):\n",
    "        # instance variable\n",
    "        self.model=a\n",
    "        print('First classs')\n",
    "class B:\n",
    "    # create the method\n",
    "    def second(self,b):\n",
    "        #Instance variable\n",
    "        self.model2=b\n",
    "        print('Second class')\n",
    "class Thired(A,B):\n",
    "    def result(self):\n",
    "        print(\"Sum is two number=:{}\".format(self.model+self.model2))"
   ]
  },
  {
   "cell_type": "code",
   "execution_count": 15,
   "id": "f649f108",
   "metadata": {},
   "outputs": [
    {
     "name": "stdout",
     "output_type": "stream",
     "text": [
      "First classs\n"
     ]
    }
   ],
   "source": [
    "#Create the object of class\n",
    "obj = Thired(12)"
   ]
  },
  {
   "cell_type": "code",
   "execution_count": 16,
   "id": "067b5fa1",
   "metadata": {},
   "outputs": [
    {
     "name": "stdout",
     "output_type": "stream",
     "text": [
      "Second class\n"
     ]
    }
   ],
   "source": [
    "#Called function first\n",
    "obj.second(15)"
   ]
  },
  {
   "cell_type": "code",
   "execution_count": 17,
   "id": "e6741fa1",
   "metadata": {},
   "outputs": [
    {
     "name": "stdout",
     "output_type": "stream",
     "text": [
      "Sum is two number=:27\n"
     ]
    }
   ],
   "source": [
    "#Called function Second\n",
    "obj.result()"
   ]
  },
  {
   "cell_type": "markdown",
   "id": "58cfa2c5",
   "metadata": {},
   "source": [
    "# Multilevel Inheritance"
   ]
  },
  {
   "cell_type": "code",
   "execution_count": 18,
   "id": "02a7de79",
   "metadata": {},
   "outputs": [
    {
     "name": "stdout",
     "output_type": "stream",
     "text": [
      "First class\n"
     ]
    }
   ],
   "source": [
    "#Create the multilevel inheritance\n",
    "class A:\n",
    "    # Constructor\n",
    "    def __init__(self,a):\n",
    "        print(\"First class\")\n",
    "        # Instance variable\n",
    "        self.model=a\n",
    "class B(A):\n",
    "    # create the method with peramitter\n",
    "    def second(self,b):\n",
    "        print('Second class')\n",
    "        self.model2=b\n",
    "class C(B):\n",
    "    def thired(self,c):\n",
    "        print(\"Thired class\")\n",
    "        self.model3=c\n",
    "class result(C):\n",
    "    def show(self):\n",
    "        print(\"Total result={}\".format(self.model+self.model2+self.model3))\n",
    "# create the object of class\n",
    "obj=result(12)"
   ]
  },
  {
   "cell_type": "code",
   "execution_count": 19,
   "id": "01089850",
   "metadata": {},
   "outputs": [
    {
     "name": "stdout",
     "output_type": "stream",
     "text": [
      "Second class\n"
     ]
    }
   ],
   "source": [
    "#called function\n",
    "obj.second(13)"
   ]
  },
  {
   "cell_type": "code",
   "execution_count": 20,
   "id": "ad84b4fd",
   "metadata": {},
   "outputs": [
    {
     "name": "stdout",
     "output_type": "stream",
     "text": [
      "Thired class\n"
     ]
    }
   ],
   "source": [
    "#Called function with arguments\n",
    "obj.thired(15)"
   ]
  },
  {
   "cell_type": "code",
   "execution_count": 21,
   "id": "8d74c49d",
   "metadata": {},
   "outputs": [
    {
     "name": "stdout",
     "output_type": "stream",
     "text": [
      "Total result=40\n"
     ]
    }
   ],
   "source": [
    "#Called function \n",
    "obj.show()"
   ]
  },
  {
   "cell_type": "markdown",
   "id": "eb34c2bf",
   "metadata": {},
   "source": [
    "# Hybrid Inheritance"
   ]
  },
  {
   "cell_type": "code",
   "execution_count": 39,
   "id": "83e276eb",
   "metadata": {},
   "outputs": [],
   "source": [
    "#Craeet the perant class\n",
    "class A:\n",
    "    def __init__(self,a):\n",
    "        self.model=a\n",
    "        print('This is perant class={}'.format(self.model))\n",
    "class B(A):\n",
    "    def second(self,b):\n",
    "        self.model2=b\n",
    "        print(\"Two number addition={}\".format(self.model+self.model2))\n",
    "class C(A):\n",
    "    def third(self,c):\n",
    "        self.model3=c\n",
    "        print(\"Third number multiple={}\".format(self.model+self.model3))"
   ]
  },
  {
   "cell_type": "code",
   "execution_count": 40,
   "id": "36c20f31",
   "metadata": {},
   "outputs": [
    {
     "name": "stdout",
     "output_type": "stream",
     "text": [
      "This is perant class=12\n",
      "Two number addition=27\n"
     ]
    }
   ],
   "source": [
    "#Create object of B class and A\n",
    "obj1=B(12)\n",
    "# Called function Second\n",
    "obj1.second(15)"
   ]
  },
  {
   "cell_type": "code",
   "execution_count": 41,
   "id": "5df099c7",
   "metadata": {},
   "outputs": [
    {
     "name": "stdout",
     "output_type": "stream",
     "text": [
      "This is perant class=15\n",
      "Third number multiple=30\n"
     ]
    }
   ],
   "source": [
    "# Create second object of class C and A\n",
    "obj2=C(15)\n",
    "# Called function Thired\n",
    "obj2.third(15)"
   ]
  },
  {
   "cell_type": "markdown",
   "id": "62a2fc9c",
   "metadata": {},
   "source": [
    "# Polymorphism Overloading program"
   ]
  },
  {
   "cell_type": "code",
   "execution_count": 44,
   "id": "2afd269e",
   "metadata": {},
   "outputs": [],
   "source": [
    "#Craete the overloading program\n",
    "class Overloading:\n",
    "    def show(self,a=None,b=None,c=None):\n",
    "        if a!=None and b!=None and c!=None:\n",
    "            s=a+b+c\n",
    "        elif a!=None and b!=None:\n",
    "            s=a+b\n",
    "        elif a!=None:\n",
    "            s=a\n",
    "        else:\n",
    "            s=\"Provide the number\"\n",
    "        return s\n",
    "obj=Overloading()"
   ]
  },
  {
   "cell_type": "code",
   "execution_count": 46,
   "id": "8cfe4f93",
   "metadata": {},
   "outputs": [
    {
     "data": {
      "text/plain": [
       "25"
      ]
     },
     "execution_count": 46,
     "metadata": {},
     "output_type": "execute_result"
    }
   ],
   "source": [
    "# Called by two argument \n",
    "obj.show(12,13)"
   ]
  },
  {
   "cell_type": "code",
   "execution_count": 47,
   "id": "f7b71a57",
   "metadata": {},
   "outputs": [
    {
     "data": {
      "text/plain": [
       "102"
      ]
     },
     "execution_count": 47,
     "metadata": {},
     "output_type": "execute_result"
    }
   ],
   "source": [
    "#Called by three argumnts\n",
    "obj.show(12,34,56)"
   ]
  },
  {
   "cell_type": "code",
   "execution_count": 48,
   "id": "ba4a5bb5",
   "metadata": {},
   "outputs": [
    {
     "data": {
      "text/plain": [
       "12"
      ]
     },
     "execution_count": 48,
     "metadata": {},
     "output_type": "execute_result"
    }
   ],
   "source": [
    "#Called by one argument\n",
    "obj.show(12)"
   ]
  },
  {
   "cell_type": "code",
   "execution_count": 49,
   "id": "9789c843",
   "metadata": {},
   "outputs": [
    {
     "data": {
      "text/plain": [
       "'Provide the number'"
      ]
     },
     "execution_count": 49,
     "metadata": {},
     "output_type": "execute_result"
    }
   ],
   "source": [
    "#called by no arguments\n",
    "obj.show()"
   ]
  },
  {
   "cell_type": "code",
   "execution_count": null,
   "id": "74e73454",
   "metadata": {},
   "outputs": [],
   "source": []
  }
 ],
 "metadata": {
  "kernelspec": {
   "display_name": "Python 3",
   "language": "python",
   "name": "python3"
  },
  "language_info": {
   "codemirror_mode": {
    "name": "ipython",
    "version": 3
   },
   "file_extension": ".py",
   "mimetype": "text/x-python",
   "name": "python",
   "nbconvert_exporter": "python",
   "pygments_lexer": "ipython3",
   "version": "3.8.8"
  }
 },
 "nbformat": 4,
 "nbformat_minor": 5
}
