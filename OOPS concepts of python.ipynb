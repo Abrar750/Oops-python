{
 "cells": [
  {
   "cell_type": "markdown",
   "id": "ae6bb6c5",
   "metadata": {},
   "source": [
    "# class and object program"
   ]
  },
  {
   "cell_type": "raw",
   "id": "4b1d2052",
   "metadata": {},
   "source": [
    " What is class\n",
    " Class is a keyword for used create a class in oops programming"
   ]
  },
  {
   "cell_type": "raw",
   "id": "fa8394e3",
   "metadata": {},
   "source": [
    "why used objects\n",
    "Object-object repersents the base class name from where all classes in python are derived.\n",
    "This class is also derived from object class. This is potional."
   ]
  },
  {
   "cell_type": "raw",
   "id": "6cf39a50",
   "metadata": {},
   "source": [
    "self is a variable not a keyword"
   ]
  },
  {
   "cell_type": "code",
   "execution_count": 25,
   "id": "75d58f41",
   "metadata": {},
   "outputs": [],
   "source": [
    "#Create the program for class and object\n",
    "class abrar:\n",
    "    #Construct initialize\n",
    "    def __init__(self,age):\n",
    "        #create the attribute into construct \n",
    "        self.age=age\n",
    "    #create as methods\n",
    "    def info(self,name):\n",
    "        #create the Attribute into methods\n",
    "        self.name=name\n",
    "        print('This is your name=:{}'.format(self.name))\n",
    "        print('This is your age=:{}'.format(self.age))\n",
    "#Create the object of class and pass value\n",
    "ab=abrar(23)"
   ]
  },
  {
   "cell_type": "code",
   "execution_count": 26,
   "id": "e739ebb1",
   "metadata": {},
   "outputs": [
    {
     "name": "stdout",
     "output_type": "stream",
     "text": [
      "This is your name=:Abrar Siddiqui\n",
      "This is your age=:23\n"
     ]
    }
   ],
   "source": [
    "#Calling the methods by object\n",
    "ab.info('Abrar Siddiqui')"
   ]
  },
  {
   "cell_type": "code",
   "execution_count": 27,
   "id": "a7a81442",
   "metadata": {},
   "outputs": [
    {
     "name": "stdout",
     "output_type": "stream",
     "text": [
      "Enter the your name=:Abrar\n",
      "This is your name=:Abrar\n",
      "This is your age=:23\n"
     ]
    }
   ],
   "source": [
    "#input the name by user and calling the methods info\n",
    "name=input('Enter the your name=:')\n",
    "ab.info(name)"
   ]
  },
  {
   "cell_type": "code",
   "execution_count": null,
   "id": "b2d59bde",
   "metadata": {},
   "outputs": [],
   "source": [
    "                                                                                                                                                                                                                                                                                                                                                                                                                                                                                                                                                                                                                                                                                                                                                                                                                                                                                                                                                                                                                                                                                                                                                                                                                                                                                                                                                                                                                                                                                                                                                                                                                                                                                                                                                                                                                                                                                                                                  "
   ]
  }
 ],
 "metadata": {
  "kernelspec": {
   "display_name": "Python 3",
   "language": "python",
   "name": "python3"
  },
  "language_info": {
   "codemirror_mode": {
    "name": "ipython",
    "version": 3
   },
   "file_extension": ".py",
   "mimetype": "text/x-python",
   "name": "python",
   "nbconvert_exporter": "python",
   "pygments_lexer": "ipython3",
   "version": "3.8.8"
  }
 },
 "nbformat": 4,
 "nbformat_minor": 5
}
